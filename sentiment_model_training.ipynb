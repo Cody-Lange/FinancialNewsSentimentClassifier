{
 "cells": [
  {
   "cell_type": "markdown",
   "metadata": {},
   "source": [
    "# Financial News Headline Sentiment Classifier\n",
    "\n",
    "Cody Lange\n",
    "August 8th, 2023\n",
    "\n",
    "**Motivation**\n",
    "Market sentiment derived from news articles is one factor that can influence trading and investment decisions. By understanding the sentiment of financial news headlines, investors, traders, and financial institutions have another tool that they can use to make more informed decisions, assess risks, and potentially even design algorithmic trading strategies. This notebook demonstrates the process of training a BERT (Bidirectional Encoder Representations from Transformers) model on the financial_phrasebank dataset to classify Yahoo Finance headlines into three sentiment categories: positive, neutral, and negative. While this exercise uses financial headlines as an input, the underlying techniques used in this notebook can be transferred to simmilar text classification tasks.\n",
    "The methods outlined in this notebook also serve as a less-complicated, indirect sample for my actual data science work making a similar transformer model for multilabel text classification.\n",
    "\n",
    "**Data Source**\n",
    "The financial_phrasebank dataset is a collection of financial news headlines for companies listed in OMX Helsinki, each labeled with a sentiment score of 2 for positive, 1 for neutral, or 0 for negative. Labels were decided upon by a group of 13 annotators at the  Aalto University School of Business in which 75% of the judges agree."
   ]
  },
  {
   "cell_type": "code",
   "execution_count": 1,
   "metadata": {},
   "outputs": [],
   "source": [
    "import pandas as pd\n",
    "import pyodbc as pb\n",
    "from tqdm.notebook import tqdm\n",
    "\n",
    "# Show all dataframe columns\n",
    "pd.set_option('display.max_columns', None)"
   ]
  },
  {
   "cell_type": "code",
   "execution_count": 2,
   "metadata": {},
   "outputs": [
    {
     "name": "stderr",
     "output_type": "stream",
     "text": [
      "Found cached dataset financial_phrasebank (C:/Users/langecod/.cache/huggingface/datasets/financial_phrasebank/sentences_75agree/1.0.0/550bde12e6c30e2674da973a55f57edde5181d53f5a5a34c1531c53f93b7e141)\n"
     ]
    },
    {
     "data": {
      "application/vnd.jupyter.widget-view+json": {
       "model_id": "c45f9600b63a428ab6ad8114d0366339",
       "version_major": 2,
       "version_minor": 0
      },
      "text/plain": [
       "  0%|          | 0/1 [00:00<?, ?it/s]"
      ]
     },
     "metadata": {},
     "output_type": "display_data"
    }
   ],
   "source": [
    "from datasets import load_dataset, concatenate_datasets\n",
    "\n",
    "# Load the datasets into a pandas dataframe\n",
    "headlines = pd.DataFrame( load_dataset(\"financial_phrasebank\", \"sentences_75agree\")[\"train\"] )"
   ]
  },
  {
   "cell_type": "code",
   "execution_count": 3,
   "metadata": {},
   "outputs": [
    {
     "data": {
      "text/html": [
       "<div>\n",
       "<style scoped>\n",
       "    .dataframe tbody tr th:only-of-type {\n",
       "        vertical-align: middle;\n",
       "    }\n",
       "\n",
       "    .dataframe tbody tr th {\n",
       "        vertical-align: top;\n",
       "    }\n",
       "\n",
       "    .dataframe thead th {\n",
       "        text-align: right;\n",
       "    }\n",
       "</style>\n",
       "<table border=\"1\" class=\"dataframe\">\n",
       "  <thead>\n",
       "    <tr style=\"text-align: right;\">\n",
       "      <th></th>\n",
       "      <th>sentence</th>\n",
       "      <th>label</th>\n",
       "    </tr>\n",
       "  </thead>\n",
       "  <tbody>\n",
       "    <tr>\n",
       "      <th>0</th>\n",
       "      <td>According to Gran , the company has no plans t...</td>\n",
       "      <td>1</td>\n",
       "    </tr>\n",
       "    <tr>\n",
       "      <th>1</th>\n",
       "      <td>With the new production plant the company woul...</td>\n",
       "      <td>2</td>\n",
       "    </tr>\n",
       "    <tr>\n",
       "      <th>2</th>\n",
       "      <td>For the last quarter of 2010 , Componenta 's n...</td>\n",
       "      <td>2</td>\n",
       "    </tr>\n",
       "    <tr>\n",
       "      <th>3</th>\n",
       "      <td>In the third quarter of 2010 , net sales incre...</td>\n",
       "      <td>2</td>\n",
       "    </tr>\n",
       "    <tr>\n",
       "      <th>4</th>\n",
       "      <td>Operating profit rose to EUR 13.1 mn from EUR ...</td>\n",
       "      <td>2</td>\n",
       "    </tr>\n",
       "  </tbody>\n",
       "</table>\n",
       "</div>"
      ],
      "text/plain": [
       "                                            sentence  label\n",
       "0  According to Gran , the company has no plans t...      1\n",
       "1  With the new production plant the company woul...      2\n",
       "2  For the last quarter of 2010 , Componenta 's n...      2\n",
       "3  In the third quarter of 2010 , net sales incre...      2\n",
       "4  Operating profit rose to EUR 13.1 mn from EUR ...      2"
      ]
     },
     "execution_count": 3,
     "metadata": {},
     "output_type": "execute_result"
    }
   ],
   "source": [
    "headlines.head()"
   ]
  },
  {
   "cell_type": "code",
   "execution_count": 4,
   "metadata": {},
   "outputs": [
    {
     "name": "stdout",
     "output_type": "stream",
     "text": [
      "<class 'pandas.core.frame.DataFrame'>\n",
      "RangeIndex: 3453 entries, 0 to 3452\n",
      "Data columns (total 2 columns):\n",
      " #   Column    Non-Null Count  Dtype \n",
      "---  ------    --------------  ----- \n",
      " 0   sentence  3453 non-null   object\n",
      " 1   label     3453 non-null   int64 \n",
      "dtypes: int64(1), object(1)\n",
      "memory usage: 54.1+ KB\n"
     ]
    }
   ],
   "source": [
    "headlines.info()"
   ]
  },
  {
   "cell_type": "code",
   "execution_count": 5,
   "metadata": {},
   "outputs": [
    {
     "data": {
      "image/png": "[encoded data removed]",
      "text/plain": [
       "<Figure size 800x600 with 1 Axes>"
      ]
     },
     "metadata": {},
     "output_type": "display_data"
    }
   ],
   "source": [
    "import matplotlib.pyplot as plt\n",
    "\n",
    "# Count the occurrences of each label\n",
    "label_counts = headlines['label'].value_counts()\n",
    "\n",
    "# Create a bar plot of the label distribution\n",
    "plt.figure(figsize=(8, 6))\n",
    "plt.bar(label_counts.index, label_counts.values)\n",
    "plt.xlabel('Label')\n",
    "plt.ylabel('Count')\n",
    "plt.title('Label Distribution')\n",
    "plt.show()"
   ]
  },
  {
   "attachments": {},
   "cell_type": "markdown",
   "metadata": {},
   "source": [
    "# Cleaning?"
   ]
  },
  {
   "cell_type": "markdown",
   "metadata": {},
   "source": [
    "Less is more when training a transformer model, such as RoBERTa, for text classification. The basic concept behind transformers is to learn optimal representations of language by understanding the contexts, nuances, and intricacies present in the text. This is achieved by representing text as a sequence of tokens and using an attention mechanism to learn the effect of each token on the others in the sequence. Training the model on unprocessed text preserves the semantic richness of the language, which would otherwise be parsed out through the removal of special characters and stop words, stemming, lemmatization, etc. While text cleaning is warranted for simpler models that benefit from uniformity, dimensionality reduction, and noise removal, (see Tf-IDF, count vectorization, etc.) opting out of text processing is advantageous here since the news headlines are short enough to meet the 512-token input limit"
   ]
  },
  {
   "attachments": {},
   "cell_type": "markdown",
   "metadata": {},
   "source": [
    "# Check: Do our Inputs Meet the 512 Token Limit?"
   ]
  },
  {
   "cell_type": "code",
   "execution_count": 6,
   "metadata": {},
   "outputs": [
    {
     "data": {
      "text/plain": [
       "Int64Index([1222, 1654,  729, 2139, 2996,  319, 2708, 3280, 2196, 1903,  975,\n",
       "            2195, 2733, 1871, 1528, 1699, 3201,  959,  958,  850,   48, 1525,\n",
       "            2119, 1653, 1242,  677,  621,  722,  359, 1232, 1083,  330, 2056,\n",
       "            2130,   59,  905, 1077, 3222, 1828, 1876, 1385, 1387, 3202, 1633,\n",
       "            2762,  114, 1199, 3197,   60, 3436],\n",
       "           dtype='int64')"
      ]
     },
     "execution_count": 6,
     "metadata": {},
     "output_type": "execute_result"
    }
   ],
   "source": [
    "# What are the indices of the 10 longest notes?\n",
    "# These are the longest character lengths, not necessarily the longest token lengths\n",
    "ten_longest_inputs_idx = headlines['sentence'].apply(lambda x: len(x)).sort_values(ascending=False).index[:50]\n",
    "\n",
    "ten_longest_inputs_idx"
   ]
  },
  {
   "cell_type": "code",
   "execution_count": 7,
   "metadata": {},
   "outputs": [
    {
     "name": "stdout",
     "output_type": "stream",
     "text": [
      "Loading tokenizer\n",
      "The longest sequence is 133 tokens\n"
     ]
    }
   ],
   "source": [
    "from transformers import AutoTokenizer\n",
    "import heapq\n",
    "\n",
    "# Let's check how many tokens these are... Might not need all 512 tokens\n",
    "ten_longest_inputs = headlines['sentence'].iloc[ten_longest_inputs_idx].values\n",
    "\n",
    "print('Loading tokenizer')\n",
    "tokenizer = AutoTokenizer.from_pretrained(\"soleimanian/financial-roberta-large-sentiment\")\n",
    "\n",
    "token_lengths = []\n",
    "max_tokens = 0\n",
    "for input in ten_longest_inputs:\n",
    "    encodings = tokenizer(input,\n",
    "                            add_special_tokens=True, # Add '[CLS]' and '[SEP]'\n",
    "                            max_length=512,\n",
    "                            truncation=True,\n",
    "                            padding='do_not_pad')\n",
    "    input_ids = encodings.input_ids\n",
    "    max_tokens = max(max_tokens, len(input_ids))\n",
    "\n",
    "print(f'The longest sequence is {max_tokens} tokens')"
   ]
  },
  {
   "attachments": {},
   "cell_type": "markdown",
   "metadata": {},
   "source": [
    "# Labels"
   ]
  },
  {
   "cell_type": "code",
   "execution_count": 8,
   "metadata": {},
   "outputs": [
    {
     "data": {
      "text/plain": [
       "{'Positive': 2, 'Neutral': 1, 'Negative': 0}"
      ]
     },
     "execution_count": 8,
     "metadata": {},
     "output_type": "execute_result"
    }
   ],
   "source": [
    "label2id = {'Positive': 2,\n",
    "            'Neutral': 1,\n",
    "            'Negative': 0\n",
    "            }\n",
    "id2label = {0: 'Negative',\n",
    "            1:'Neutral',\n",
    "            2: 'Positive'}\n",
    "    \n",
    "label2id"
   ]
  },
  {
   "cell_type": "code",
   "execution_count": 9,
   "metadata": {},
   "outputs": [
    {
     "data": {
      "text/plain": [
       "{0: 'Negative', 1: 'Neutral', 2: 'Positive'}"
      ]
     },
     "execution_count": 9,
     "metadata": {},
     "output_type": "execute_result"
    }
   ],
   "source": [
    "id2label"
   ]
  },
  {
   "cell_type": "code",
   "execution_count": null,
   "metadata": {},
   "outputs": [],
   "source": [
    "headlines.head()"
   ]
  },
  {
   "attachments": {},
   "cell_type": "markdown",
   "metadata": {},
   "source": [
    "# Make Train/Test Splits\n",
    "\n",
    "Use Stratified Shuffle Split to ensure equal class distribution among splits"
   ]
  },
  {
   "cell_type": "code",
   "execution_count": null,
   "metadata": {},
   "outputs": [],
   "source": [
    "from sklearn.model_selection import StratifiedShuffleSplit\n",
    "\n",
    "X = headlines[['sentence']].values\n",
    "y= headlines.label.values\n",
    "\n",
    "# Define the split sizes\n",
    "split_sizes = [0.8, 0.1, 0.1]\n",
    "\n",
    "# Define the splitter with 2 splits\n",
    "splitter = StratifiedShuffleSplit(n_splits=2, test_size=split_sizes[-1], random_state=42)\n",
    "\n",
    "# Split the data into a train-dev set and a test set\n",
    "train_dev_indices, test_indices = next(splitter.split(X, y))\n",
    "\n",
    "# Get the train-dev data and the test data\n",
    "X_train_dev, y_train_dev = X[train_dev_indices], y[train_dev_indices]\n",
    "X_test, y_test = X[test_indices], y[test_indices]\n",
    "\n",
    "# Define the sizes of the train and dev sets\n",
    "train_size = int(split_sizes[0] * len(X_train_dev))\n",
    "dev_size = int(split_sizes[1] * len(X))\n",
    "\n",
    "# Split the train-dev set into a train set and a dev set\n",
    "splitter = StratifiedShuffleSplit(n_splits=1, test_size=dev_size, random_state=42)\n",
    "train_indices, dev_indices = next(splitter.split(X_train_dev, y_train_dev))\n",
    "\n",
    "# Get the train data and the dev data\n",
    "X_train, y_train = X_train_dev[train_indices], y_train_dev[train_indices]\n",
    "X_dev, y_dev = X_train_dev[dev_indices], y_train_dev[dev_indices]"
   ]
  },
  {
   "cell_type": "code",
   "execution_count": null,
   "metadata": {},
   "outputs": [],
   "source": [
    "X_train"
   ]
  },
  {
   "cell_type": "code",
   "execution_count": null,
   "metadata": {},
   "outputs": [],
   "source": [
    "X_train.shape"
   ]
  },
  {
   "cell_type": "code",
   "execution_count": null,
   "metadata": {},
   "outputs": [],
   "source": [
    "X_dev.shape"
   ]
  },
  {
   "cell_type": "code",
   "execution_count": null,
   "metadata": {},
   "outputs": [],
   "source": [
    "X_test.shape"
   ]
  },
  {
   "cell_type": "code",
   "execution_count": null,
   "metadata": {},
   "outputs": [],
   "source": [
    "# Get the lists of sentences and their labels.\n",
    "train_sentences = [narr[0] for narr in X_train] \n",
    "train_labels = y_train\n",
    "dev_sentences = [narr[0] for narr in X_dev]\n",
    "dev_labels = y_dev\n",
    "test_sentences = [narr[0] for narr in X_test]\n",
    "test_labels = y_test"
   ]
  },
  {
   "cell_type": "markdown",
   "metadata": {},
   "source": [
    "# Tokenization"
   ]
  },
  {
   "cell_type": "markdown",
   "metadata": {},
   "source": [
    "Tokenization abstracts the news headlines into a structured form that RoBERTa can interpret. This involves breaking the text into smaller units, inserting [CLS] and [SEP] tokens to mark the beginning and end of sentences, padding shorter inputs with [PAD] tokens to a uniform length (133 length as discovered earlier), and truncating longer ones. Attention masks are also created to distinguish between actual inputs and padding. The breakdown and structuring of text in this manner enable the model to effectively understand unseen words, allocate attention appropriately, and capture the contextual relationships within the text, allowing it to make more accurate predictions."
   ]
  },
  {
   "cell_type": "code",
   "execution_count": null,
   "metadata": {},
   "outputs": [],
   "source": [
    "from datasets import Dataset\n",
    "\n",
    "def get_encodings(sentences):\n",
    "\n",
    "    sentence_dataset = Dataset.from_dict({'sentences':sentences } )\n",
    "    encodings = sentence_dataset.map(lambda x: tokenizer(\n",
    "                                                                x['sentences'], \n",
    "                                                                add_special_tokens=True, # Add '[CLS]' and '[SEP]'\n",
    "                                                                max_length=max_tokens, # Replace this part with max_tokens for BigBird\n",
    "                                                                truncation=True,\n",
    "                                                                padding='max_length',\n",
    "                                                                ),\n",
    "                                            batched=True,\n",
    "                                            )\n",
    "\n",
    "    return encodings "
   ]
  },
  {
   "cell_type": "code",
   "execution_count": null,
   "metadata": {},
   "outputs": [],
   "source": [
    "train_encodings = get_encodings(train_sentences)"
   ]
  },
  {
   "cell_type": "code",
   "execution_count": null,
   "metadata": {},
   "outputs": [],
   "source": [
    "train_inputs = train_encodings[:]['input_ids']\n",
    "train_attention = train_encodings[:]['attention_mask']"
   ]
  },
  {
   "cell_type": "code",
   "execution_count": null,
   "metadata": {},
   "outputs": [],
   "source": [
    "dev_encodings = get_encodings(dev_sentences)"
   ]
  },
  {
   "cell_type": "code",
   "execution_count": null,
   "metadata": {},
   "outputs": [],
   "source": [
    "dev_inputs = dev_encodings[:]['input_ids']\n",
    "dev_attention = dev_encodings[:]['attention_mask']"
   ]
  },
  {
   "cell_type": "code",
   "execution_count": null,
   "metadata": {},
   "outputs": [],
   "source": [
    "test_encodings = get_encodings(test_sentences)"
   ]
  },
  {
   "cell_type": "code",
   "execution_count": null,
   "metadata": {},
   "outputs": [],
   "source": [
    "test_inputs = test_encodings[:]['input_ids']\n",
    "test_attention = test_encodings[:]['attention_mask']"
   ]
  },
  {
   "cell_type": "code",
   "execution_count": null,
   "metadata": {},
   "outputs": [],
   "source": [
    "# Convert all inputs and labels into torch tensors, the required datatype \n",
    "# for our model\n",
    "\n",
    "import torch\n",
    "\n",
    "#Inputs\n",
    "train_inputs = torch.tensor(train_inputs, dtype=torch.int32)\n",
    "dev_inputs = torch.tensor(dev_inputs, dtype=torch.int32)\n",
    "test_inputs = torch.tensor(test_inputs, dtype=torch.int32)\n",
    "\n",
    "#Labels\n",
    "train_labels = torch.tensor(train_labels, dtype=torch.long)\n",
    "dev_labels = torch.tensor(dev_labels, dtype=torch.long)\n",
    "test_labels = torch.tensor(test_labels, dtype=torch.long)\n",
    "\n",
    "#Masks\n",
    "train_masks = torch.tensor(train_attention, dtype=torch.int32)\n",
    "dev_masks = torch.tensor(dev_attention, dtype=torch.int32)\n",
    "test_masks = torch.tensor(test_attention, dtype=torch.int32)"
   ]
  },
  {
   "cell_type": "code",
   "execution_count": null,
   "metadata": {},
   "outputs": [],
   "source": [
    "from datasets import Dataset \n",
    "\n",
    "# Load the input ids, masks, etc. into separate datasets\n",
    "\n",
    "train_dataset = Dataset.from_dict({'input_ids':train_inputs,\n",
    "                                    'attention_mask': train_masks,\n",
    "                                    'labels': train_labels})\n",
    "\n",
    "dev_dataset =  Dataset.from_dict({'input_ids': dev_inputs,\n",
    "                                 'attention_mask': dev_masks,\n",
    "                                 'labels':dev_labels})\n",
    "\n",
    "test_dataset =  Dataset.from_dict({'input_ids':test_inputs,\n",
    "                                    'attention_mask':test_masks,\n",
    "                                    'labels':test_labels})"
   ]
  },
  {
   "cell_type": "markdown",
   "metadata": {},
   "source": [
    "# RoBERTa (Robustly Optimized BERT Approach)"
   ]
  },
  {
   "cell_type": "markdown",
   "metadata": {},
   "source": [
    "RoBERTa was chosen for this project to harness its advanced contextual understanding and exceptional performance in text classification tasks. RoBERTa is a high-performing transformer model developed by Facebook AI, excelling in numerous NLP tasks by leveraging attention mechanisms to understand the intricacies of language. Attention mechanisms enable the model to process and interpret the contextual relations and nuances between different parts of the input text. RoBERTa surpasses its predecessor, BERT, by using refined training techniques, larger datasets, and architectural improvements, which include the elimination of BERT's Next Sentence Prediction objective and dynamic adjustment of input token masking. This optimized training and enhanced contextual understanding make RoBERTa an excellent choice for this text classsification task. "
   ]
  },
  {
   "cell_type": "markdown",
   "metadata": {},
   "source": [
    "## Leveraging a Pre-Trained Model for Transfer Learning?"
   ]
  },
  {
   "cell_type": "markdown",
   "metadata": {},
   "source": [
    "Financial RoBERTa provides an opportunity for transfer learning, as it already acquired acquired an understanding of financial texts through fine-tuning on extensive financial documents like 10Ks and earnings call transcripts (important to note not the dataset used for this task). Using this specialized, pre-trained model facilitates more powerful predictions by effectively increasing the knowledge base of the text documents the model has to learn a language representation from."
   ]
  },
  {
   "cell_type": "code",
   "execution_count": null,
   "metadata": {},
   "outputs": [],
   "source": [
    "from transformers import BertForSequenceClassification, AdamW, BertConfig\n",
    "from transformers import AutoModel, AutoModelForSequenceClassification, AutoModelForCausalLM\n",
    "\n",
    "model = AutoModelForSequenceClassification.from_pretrained(\n",
    "    \"soleimanian/financial-roberta-large-sentiment\", \n",
    "    num_labels = len(label2id),\n",
    "    problem_type = \"single_label_classification\",\n",
    "    hidden_dropout_prob=0.2,\n",
    "    attention_probs_dropout_prob=0.1,\n",
    "    id2label=id2label,\n",
    "    label2id=label2id,\n",
    "    )\n",
    "\n",
    "# Tell pytorch to run this model on the GPU.\n",
    "model.to('cuda')"
   ]
  },
  {
   "cell_type": "code",
   "execution_count": null,
   "metadata": {},
   "outputs": [],
   "source": [
    "print(model.get_memory_footprint())"
   ]
  },
  {
   "cell_type": "markdown",
   "metadata": {},
   "source": [
    "# Evaluation Metrics: Accuracy, Macro/Weighted F1, Precision, Recall"
   ]
  },
  {
   "cell_type": "code",
   "execution_count": null,
   "metadata": {},
   "outputs": [],
   "source": [
    "import numpy as np\n",
    "import torch\n",
    "from sklearn.metrics import accuracy_score, precision_recall_fscore_support\n",
    "\n",
    "# Function to calculate the accuracy and other metrics of our predictions vs labels\n",
    "def compute_metrics_multiclass(eval_pred):\n",
    "\n",
    "    # Labels give the ground truth for each *sentence* (num_classes, 1)\n",
    "    # Preds give the unnormalized probabilities for each class in a sentence (num_sentences, num_classes)\n",
    "    preds, labels = eval_pred\n",
    "\n",
    "    preds_flat = np.argmax(preds, axis=1).flatten() # Get the index of the most probable classes (Already mapped index=class) and flatten to give one pred/sentence\n",
    "    labels_flat = labels.flatten()\n",
    "\n",
    "    print(\"Predicted Sample: \")\n",
    "    print(preds_flat[:10])\n",
    "    print(\"Actual Sample: \")\n",
    "    print(labels_flat[:10])\n",
    "\n",
    "    # Convert logits to float32 before applying softmax (flexibility for fp16 training)\n",
    "    preds_float32 = torch.tensor(preds, dtype=torch.float32)\n",
    "\n",
    "    # Convert logits to probabilities \n",
    "    preds_prob = torch.nn.functional.softmax(torch.tensor(preds_float32), dim=-1)\n",
    "\n",
    "    # Calculate the accuracy of the top 1 predictions\n",
    "    acc = accuracy_score(labels_flat, preds_flat)\n",
    "\n",
    "    # Calculate precision, recall, and F1 score\n",
    "    precision_weighted, recall_weighted, f1_weighted, _ = precision_recall_fscore_support(labels_flat, preds_flat, average='weighted')\n",
    "    precision_macro, recall_macro, f1_macro, _ = precision_recall_fscore_support(labels_flat, preds_flat, average='macro')\n",
    "\n",
    "    return {\n",
    "        'accuracy': acc,\n",
    "        'precision_weighted': precision_weighted,\n",
    "        'precision_macro': precision_macro,\n",
    "        'recall_weighted': recall_weighted,\n",
    "        'recall_macro': recall_macro,\n",
    "        'f1_weighted': f1_weighted,\n",
    "        'f1_macro': f1_macro\n",
    "    }\n"
   ]
  },
  {
   "cell_type": "markdown",
   "metadata": {},
   "source": [
    "# Training Arguments"
   ]
  },
  {
   "cell_type": "markdown",
   "metadata": {},
   "source": [
    "In response to past experiences with extensive memory usage and slow computational speed during model training, adjustments were made to optimize resource efficiency. Mixed precision training (fp16) was employed, reducing memory requirements and accelerating computations. Concurrently, the 8BitAdam optimizer was used to compress model weights from 32 bits to 8 bits, conserving memory while preserving performance. Additionally, early stopping was implemented to prevent unnecessary computations and overfitting, contributing to a more efficient and dependable training process, essential for managing large datasets and advanced deep learning models."
   ]
  },
  {
   "cell_type": "code",
   "execution_count": null,
   "metadata": {},
   "outputs": [],
   "source": [
    "import torch\n",
    "from transformers import TrainingArguments, Trainer, EarlyStoppingCallback\n",
    "import multiprocessing as mp\n",
    "from torch.optim.lr_scheduler import CosineAnnealingWarmRestarts\n",
    "import bitsandbytes as bnb\n",
    "from bitsandbytes.optim import AdamW8bit\n",
    "from torch import nn\n",
    "from transformers.trainer_pt_utils import get_parameter_names\n",
    "\n",
    "\n",
    "batch_size = 64\n",
    "\n",
    "# Set threads==num cores on the machine\n",
    "torch.set_num_threads(mp.cpu_count())\n",
    "\n",
    "training_args = TrainingArguments(\n",
    "    output_dir=\"Sentiment_Analysis_1stPass\",\n",
    "    evaluation_strategy=\"epoch\",\n",
    "    save_strategy=\"epoch\",\n",
    "    do_eval=True,\n",
    "    do_predict=True,\n",
    "    per_device_train_batch_size=batch_size,\n",
    "    per_device_eval_batch_size=batch_size,\n",
    "    num_train_epochs=15,        # Leave extra epochs in case learning brakes out of unoptimal convergence\n",
    "    gradient_accumulation_steps=1,\n",
    "    gradient_checkpointing=False,\n",
    "    learning_rate=1e-6,\n",
    "    warmup_ratio = 0.4,  \n",
    "    fp16=True,  # gradients are computed in half precision & converted back to 32bit for the optimization step\n",
    "    disable_tqdm=False,\n",
    "    dataloader_pin_memory=True,\n",
    "    logging_dir='./logs',\n",
    "    save_total_limit=1,\n",
    "    metric_for_best_model=\"eval_loss\",\n",
    "    greater_is_better=False,  # Want smaller loss\n",
    "    load_best_model_at_end=True,\n",
    "    resume_from_checkpoint=False,\n",
    ")\n",
    "\n",
    "'''\n",
    "If you want to run a larger model and/or use a larger batch size, uncomment the bel\n",
    "'''\n",
    "decay_parameters = get_parameter_names(model, [nn.LayerNorm])\n",
    "decay_parameters = [\n",
    "    name for name in decay_parameters if \"bias\" not in name]\n",
    "optimizer_grouped_parameters = [\n",
    "    {\n",
    "        \"params\": [p for n, p in model.named_parameters() if n in decay_parameters],\n",
    "        \"weight_decay\": training_args.weight_decay,\n",
    "    },\n",
    "    {\n",
    "        \"params\": [p for n, p in model.named_parameters() if n not in decay_parameters],\n",
    "        \"weight_decay\": 0.00,\n",
    "    },\n",
    "]\n",
    "\n",
    "optimizer_kwargs = {\n",
    "    \"betas\": (training_args.adam_beta1, training_args.adam_beta2),\n",
    "    \"eps\": training_args.adam_epsilon,\n",
    "}\n",
    "optimizer_kwargs[\"lr\"] = training_args.learning_rate\n",
    "adam_bnb_optim = bnb.optim.Adam8bit(\n",
    "    optimizer_grouped_parameters,\n",
    "    betas=(training_args.adam_beta1, training_args.adam_beta2),\n",
    "    eps=training_args.adam_epsilon,\n",
    "    lr=training_args.learning_rate,\n",
    ")"
   ]
  },
  {
   "cell_type": "code",
   "execution_count": null,
   "metadata": {},
   "outputs": [],
   "source": [
    "trainer = Trainer(\n",
    "    model,\n",
    "    training_args,\n",
    "    optimizers=(adam_bnb_optim, None), #Uncomment accordinggly if you want 8 bit adam\n",
    "    train_dataset=train_dataset,\n",
    "    eval_dataset=dev_dataset,\n",
    "    compute_metrics=compute_metrics_multiclass,\n",
    "    callbacks=[EarlyStoppingCallback(early_stopping_patience=5, early_stopping_threshold=0.01)],\n",
    "    tokenizer=tokenizer)"
   ]
  },
  {
   "cell_type": "code",
   "execution_count": null,
   "metadata": {},
   "outputs": [],
   "source": [
    "import gc\n",
    "gc.collect()\n",
    "torch.cuda.empty_cache()"
   ]
  },
  {
   "cell_type": "code",
   "execution_count": null,
   "metadata": {},
   "outputs": [],
   "source": [
    "print(torch.cuda.memory_summary())"
   ]
  },
  {
   "cell_type": "code",
   "execution_count": null,
   "metadata": {},
   "outputs": [],
   "source": [
    "trainer.train()"
   ]
  },
  {
   "cell_type": "code",
   "execution_count": null,
   "metadata": {},
   "outputs": [],
   "source": [
    "test_results = trainer.predict(test_dataset)"
   ]
  },
  {
   "cell_type": "code",
   "execution_count": null,
   "metadata": {},
   "outputs": [],
   "source": [
    "print(test_results)"
   ]
  },
  {
   "cell_type": "code",
   "execution_count": null,
   "metadata": {},
   "outputs": [],
   "source": [
    "model.save_pretrained(r'Sentiment_Roberta')"
   ]
  },
  {
   "cell_type": "code",
   "execution_count": null,
   "metadata": {},
   "outputs": [],
   "source": [
    "tokenizer.save_pretrained(r'Sentiment_Roberta')"
   ]
  }
 ],
 "metadata": {
  "kernelspec": {
   "display_name": "cpt_env",
   "language": "python",
   "name": "python3"
  },
  "language_info": {
   "codemirror_mode": {
    "name": "ipython",
    "version": 3
   },
   "file_extension": ".py",
   "mimetype": "text/x-python",
   "name": "python",
   "nbconvert_exporter": "python",
   "pygments_lexer": "ipython3",
   "version": "3.9.5"
  },
  "orig_nbformat": 4
 },
 "nbformat": 4,
 "nbformat_minor": 2
}
